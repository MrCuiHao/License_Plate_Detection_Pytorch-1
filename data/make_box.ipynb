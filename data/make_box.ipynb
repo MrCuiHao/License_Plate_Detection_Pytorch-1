{
 "cells": [
  {
   "cell_type": "code",
   "execution_count": 1,
   "metadata": {},
   "outputs": [],
   "source": [
    "import json\n",
    "import os\n",
    "import cv2\n",
    "import shutil\n",
    "import random"
   ]
  },
  {
   "cell_type": "code",
   "execution_count": 2,
   "metadata": {
    "tags": []
   },
   "outputs": [],
   "source": [
    "image_file = os.listdir('images')\n",
    "json_files = os.listdir('labels')\n",
    "shutil.rmtree('COCO_style/images/all')\n",
    "shutil.rmtree('COCO_style/labels/all')\n",
    "os.mkdir('COCO_style/images/all')\n",
    "os.mkdir('COCO_style/labels/all')\n",
    "for json_file in json_files:\n",
    "    with open('labels/'+json_file,'r') as f_json:\n",
    "        f = json.load(f_json)\n",
    "        image_name = f['imagePath'].split('\\\\')[-1]\n",
    "        if image_name not in image_file:\n",
    "            print(image_name + ' not exist!')\n",
    "            continue\n",
    "        image = cv2.imread('images/'+image_name)\n",
    "        height, width, _ = image.shape\n",
    "        image_id = image_name.split('.')[0]\n",
    "        plate = f['shapes'][0]['label']\n",
    "        plate = plate.replace(' ','')\n",
    "        plate = plate.replace('-','')\n",
    "        x1 = int(f['shapes'][0]['points'][0][0])\n",
    "        y1 = int(f['shapes'][0]['points'][0][1])\n",
    "        x2 = int(f['shapes'][0]['points'][1][0])\n",
    "        y2 = int(f['shapes'][0]['points'][1][1])\n",
    "        x_center, y_center = (x2+x1)/2/width, (y2+y1)/2/height\n",
    "        x_width, y_height  = (x2-x1)/width,   (y2-y1)/height\n",
    "        label_txt = '0 ' + str(x_center) + ' ' + str(y_center) + ' ' + str(x_width) + ' ' + str(y_height)\n",
    "        # print(image_name,plate,x1,y1,x2,y2)\n",
    "        cv2.imwrite('COCO_style/images/all/'+plate+'.png', image)\n",
    "        with open('COCO_style/labels/all/' + plate+'.txt','w') as f_txt:\n",
    "            f_txt.write(label_txt)"
   ]
  },
  {
   "cell_type": "code",
   "execution_count": null,
   "metadata": {},
   "outputs": [],
   "source": []
  },
  {
   "cell_type": "code",
   "execution_count": 3,
   "metadata": {},
   "outputs": [],
   "source": [
    "image_ids = os.listdir('COCO_style/labels/all')\n",
    "image_ids = [_.split('.')[0] for _ in image_ids]\n",
    "random.shuffle(image_ids)\n",
    "train_num = len(image_ids)*9//10\n",
    "shutil.rmtree('COCO_style/images/train')\n",
    "shutil.rmtree('COCO_style/images/val')\n",
    "shutil.rmtree('COCO_style/labels/train')\n",
    "shutil.rmtree('COCO_style/labels/val')\n",
    "os.mkdir('COCO_style/images/train')\n",
    "os.mkdir('COCO_style/images/val')\n",
    "os.mkdir('COCO_style/labels/train')\n",
    "os.mkdir('COCO_style/labels/val')\n",
    "\n",
    "for image_id in image_ids[:train_num]:\n",
    "    shutil.copy('COCO_style/images/all/'+image_id+'.png', 'COCO_style/images/train')\n",
    "    shutil.copy('COCO_style/labels/all/'+image_id+'.txt', 'COCO_style/labels/train')\n",
    "for image_id in image_ids[train_num:]:\n",
    "    shutil.copy('COCO_style/images/all/'+image_id+'.png', 'COCO_style/images/val')\n",
    "    shutil.copy('COCO_style/labels/all/'+image_id+'.txt', 'COCO_style/labels/val')"
   ]
  },
  {
   "cell_type": "code",
   "execution_count": 4,
   "metadata": {},
   "outputs": [
    {
     "data": {
      "text/plain": [
       "1736"
      ]
     },
     "execution_count": 4,
     "metadata": {},
     "output_type": "execute_result"
    }
   ],
   "source": [
    "train_num"
   ]
  },
  {
   "cell_type": "code",
   "execution_count": null,
   "metadata": {},
   "outputs": [],
   "source": []
  }
 ],
 "metadata": {
  "kernelspec": {
   "display_name": "Python 3",
   "language": "python",
   "name": "python3"
  },
  "language_info": {
   "codemirror_mode": {
    "name": "ipython",
    "version": 3
   },
   "file_extension": ".py",
   "mimetype": "text/x-python",
   "name": "python",
   "nbconvert_exporter": "python",
   "pygments_lexer": "ipython3",
   "version": "3.7.6"
  }
 },
 "nbformat": 4,
 "nbformat_minor": 4
}
